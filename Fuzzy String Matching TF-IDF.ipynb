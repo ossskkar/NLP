{
 "cells": [
  {
   "cell_type": "markdown",
   "metadata": {},
   "source": [
    "# Fuzzy String Fast Matching TF-IDF\n",
    "\n",
    "Use TF-IDF method to match similar company names"
   ]
  },
  {
   "cell_type": "code",
   "execution_count": 6,
   "metadata": {},
   "outputs": [
    {
     "name": "stdout",
     "output_type": "stream",
     "text": [
      "The shape: 450256 x 2\n",
      "      Key                        Name\n",
      "0  634022  PRIMCOM SA                \n",
      "1  324497  The David Isaacs Fund     \n",
      "2  280848  Bramor Enterprises Limited\n",
      "3  432662  NAVEXIM S.A.              \n",
      "4  524224  Magal Group SA            \n"
     ]
    },
    {
     "data": {
      "text/html": [
       "<div>\n",
       "<style>\n",
       "    .dataframe thead tr:only-child th {\n",
       "        text-align: right;\n",
       "    }\n",
       "\n",
       "    .dataframe thead th {\n",
       "        text-align: left;\n",
       "    }\n",
       "\n",
       "    .dataframe tbody tr th {\n",
       "        vertical-align: top;\n",
       "    }\n",
       "</style>\n",
       "<table border=\"1\" class=\"dataframe\">\n",
       "  <thead>\n",
       "    <tr style=\"text-align: right;\">\n",
       "      <th></th>\n",
       "      <th>Number</th>\n",
       "      <th>Name</th>\n",
       "      <th>Key</th>\n",
       "    </tr>\n",
       "  </thead>\n",
       "  <tbody>\n",
       "    <tr>\n",
       "      <th>0</th>\n",
       "      <td>1</td>\n",
       "      <td>!J INC</td>\n",
       "      <td>1438823</td>\n",
       "    </tr>\n",
       "    <tr>\n",
       "      <th>1</th>\n",
       "      <td>2</td>\n",
       "      <td>#1 A LIFESAFER HOLDINGS, INC.</td>\n",
       "      <td>1509607</td>\n",
       "    </tr>\n",
       "    <tr>\n",
       "      <th>2</th>\n",
       "      <td>3</td>\n",
       "      <td>#1 ARIZONA DISCOUNT PROPERTIES LLC</td>\n",
       "      <td>1457512</td>\n",
       "    </tr>\n",
       "    <tr>\n",
       "      <th>3</th>\n",
       "      <td>4</td>\n",
       "      <td>#1 PAINTBALL CORP</td>\n",
       "      <td>1433777</td>\n",
       "    </tr>\n",
       "    <tr>\n",
       "      <th>4</th>\n",
       "      <td>5</td>\n",
       "      <td>$ LLC</td>\n",
       "      <td>1427189</td>\n",
       "    </tr>\n",
       "  </tbody>\n",
       "</table>\n",
       "</div>"
      ],
      "text/plain": [
       "   Number                                Name      Key\n",
       "0  1       !J INC                              1438823\n",
       "1  2       #1 A LIFESAFER HOLDINGS, INC.       1509607\n",
       "2  3       #1 ARIZONA DISCOUNT PROPERTIES LLC  1457512\n",
       "3  4       #1 PAINTBALL CORP                   1433777\n",
       "4  5       $ LLC                               1427189"
      ]
     },
     "execution_count": 6,
     "metadata": {},
     "output_type": "execute_result"
    }
   ],
   "source": [
    "from sklearn.feature_extraction.text import TfidfVectorizer\n",
    "import pandas as pd\n",
    "import time\n",
    "import re\n",
    "import numpy as np\n",
    "from scipy.sparse import csr_matrix\n",
    "import sparse_dot_topn.sparse_dot_topn as ct\n",
    "\n",
    "\n",
    "pd.set_option('display.max_colwidth', -1)\n",
    "names2 =  pd.read_csv('bloomberg companies.csv')\n",
    "names =  pd.read_csv('G.csv', delimiter='|')\n",
    "names.columns = ['Key', 'Name']\n",
    "print('The shape: %d x %d' % names.shape)\n",
    "print(names.head())\n",
    "names2.head()"
   ]
  },
  {
   "cell_type": "code",
   "execution_count": 7,
   "metadata": {},
   "outputs": [
    {
     "name": "stdout",
     "output_type": "stream",
     "text": [
      "All 3-grams in \"McDonalds\":\n"
     ]
    },
    {
     "data": {
      "text/plain": [
       "['McD', 'cDo', 'Don', 'ona', 'nal', 'ald', 'lds']"
      ]
     },
     "execution_count": 7,
     "metadata": {},
     "output_type": "execute_result"
    }
   ],
   "source": [
    "def ngrams(string, n=3):\n",
    "    string = re.sub(r'[,-./]|\\sBD',r'', string)\n",
    "    ngrams = zip(*[string[i:] for i in range(n)])\n",
    "    return [''.join(ngram) for ngram in ngrams]\n",
    "\n",
    "print('All 3-grams in \"McDonalds\":')\n",
    "ngrams('McDonalds')"
   ]
  },
  {
   "cell_type": "code",
   "execution_count": 8,
   "metadata": {
    "collapsed": true
   },
   "outputs": [],
   "source": [
    "company_names = names['Name']\n",
    "vectorizer = TfidfVectorizer(min_df=1, analyzer=ngrams)\n",
    "tf_idf_matrix = vectorizer.fit_transform(company_names)"
   ]
  },
  {
   "cell_type": "code",
   "execution_count": 9,
   "metadata": {},
   "outputs": [
    {
     "name": "stdout",
     "output_type": "stream",
     "text": [
      "  (0, 33432)\t0.346336976239\n",
      "  (0, 34978)\t0.377398243742\n",
      "  (0, 23135)\t0.408408481581\n",
      "  (0, 28340)\t0.406574410515\n",
      "  (0, 14471)\t0.294909925079\n",
      "  (0, 31634)\t0.388846153349\n",
      "  (0, 28063)\t0.340799164551\n",
      "  (0, 1957)\t0.226282478229\n"
     ]
    },
    {
     "data": {
      "text/plain": [
       "['!J ', 'J I', ' IN', 'INC']"
      ]
     },
     "execution_count": 9,
     "metadata": {},
     "output_type": "execute_result"
    }
   ],
   "source": [
    "print(tf_idf_matrix[0])\n",
    "ngrams('!J INC')"
   ]
  },
  {
   "cell_type": "code",
   "execution_count": 10,
   "metadata": {
    "collapsed": true
   },
   "outputs": [],
   "source": [
    "def awesome_cossim_top(A, B, ntop, lower_bound=0):\n",
    "    # force A and B as a CSR matrix.\n",
    "    # If they have already been CSR, there is no overhead\n",
    "    A = A.tocsr()\n",
    "    B = B.tocsr()\n",
    "    M, _ = A.shape\n",
    "    _, N = B.shape\n",
    " \n",
    "    idx_dtype = np.int32\n",
    " \n",
    "    nnz_max = M*ntop\n",
    " \n",
    "    indptr = np.zeros(M+1, dtype=idx_dtype)\n",
    "    indices = np.zeros(nnz_max, dtype=idx_dtype)\n",
    "    data = np.zeros(nnz_max, dtype=A.dtype)\n",
    "\n",
    "    ct.sparse_dot_topn(\n",
    "        M, N, np.asarray(A.indptr, dtype=idx_dtype),\n",
    "        np.asarray(A.indices, dtype=idx_dtype),\n",
    "        A.data,\n",
    "        np.asarray(B.indptr, dtype=idx_dtype),\n",
    "        np.asarray(B.indices, dtype=idx_dtype),\n",
    "        B.data,\n",
    "        ntop,\n",
    "        lower_bound,\n",
    "        indptr, indices, data)\n",
    "\n",
    "    return csr_matrix((data,indices,indptr),shape=(M,N))"
   ]
  },
  {
   "cell_type": "code",
   "execution_count": null,
   "metadata": {
    "collapsed": true
   },
   "outputs": [],
   "source": [
    "t1 = time.time()\n",
    "matches = awesome_cossim_top(tf_idf_matrix, tf_idf_matrix.transpose(), 10, 0.8)\n",
    "t = time.time()-t1\n",
    "print(\"SELFTIMED:\", t)"
   ]
  },
  {
   "cell_type": "code",
   "execution_count": 9,
   "metadata": {
    "collapsed": true
   },
   "outputs": [],
   "source": [
    "def get_matches_df(sparse_matrix, name_vector, top=100):\n",
    "    non_zeros = sparse_matrix.nonzero()\n",
    "    \n",
    "    sparserows = non_zeros[0]\n",
    "    sparsecols = non_zeros[1]\n",
    "    \n",
    "    if top:\n",
    "        nr_matches = top\n",
    "    else:\n",
    "        nr_matches = sparsecols.size\n",
    "    \n",
    "    left_side = np.empty([nr_matches], dtype=object)\n",
    "    right_side = np.empty([nr_matches], dtype=object)\n",
    "    similairity = np.zeros(nr_matches)\n",
    "    \n",
    "    for index in range(0, nr_matches):\n",
    "        if sparserows[index] != sparsecols[index] :\n",
    "            left_side[index] = name_vector[sparserows[index]]\n",
    "            right_side[index] = name_vector[sparsecols[index]]\n",
    "            similairity[index] = sparse_matrix.data[index]\n",
    "    \n",
    "    return pd.DataFrame({'left_side': left_side,\n",
    "                          'right_side': right_side,\n",
    "                           'similairity': similairity})"
   ]
  },
  {
   "cell_type": "code",
   "execution_count": 10,
   "metadata": {},
   "outputs": [
    {
     "data": {
      "text/html": [
       "<div>\n",
       "<style>\n",
       "    .dataframe thead tr:only-child th {\n",
       "        text-align: right;\n",
       "    }\n",
       "\n",
       "    .dataframe thead th {\n",
       "        text-align: left;\n",
       "    }\n",
       "\n",
       "    .dataframe tbody tr th {\n",
       "        vertical-align: top;\n",
       "    }\n",
       "</style>\n",
       "<table border=\"1\" class=\"dataframe\">\n",
       "  <thead>\n",
       "    <tr style=\"text-align: right;\">\n",
       "      <th></th>\n",
       "      <th>left_side</th>\n",
       "      <th>right_side</th>\n",
       "      <th>similairity</th>\n",
       "    </tr>\n",
       "  </thead>\n",
       "  <tbody>\n",
       "    <tr>\n",
       "      <th>553568</th>\n",
       "      <td>HAMPSTEAD ASSOCIATES LLC</td>\n",
       "      <td>HAMPSTEAD ASSOCIATES INC</td>\n",
       "      <td>0.961686</td>\n",
       "    </tr>\n",
       "  </tbody>\n",
       "</table>\n",
       "</div>"
      ],
      "text/plain": [
       "                       left_side                right_side  similairity\n",
       "553568  HAMPSTEAD ASSOCIATES LLC  HAMPSTEAD ASSOCIATES INC  0.961686   "
      ]
     },
     "execution_count": 10,
     "metadata": {},
     "output_type": "execute_result"
    }
   ],
   "source": [
    "matches_df = get_matches_df(matches, company_names, top=0)\n",
    "matches_df = matches_df[matches_df['similairity'] < 0.99999] # Remove all exact matches\n",
    "matches_df.sample(20)\n",
    "matches_df[matches_df['left_side'] == 'HAMPSTEAD ASSOCIATES LLC']"
   ]
  },
  {
   "cell_type": "code",
   "execution_count": 11,
   "metadata": {},
   "outputs": [
    {
     "data": {
      "text/html": [
       "<div>\n",
       "<style>\n",
       "    .dataframe thead tr:only-child th {\n",
       "        text-align: right;\n",
       "    }\n",
       "\n",
       "    .dataframe thead th {\n",
       "        text-align: left;\n",
       "    }\n",
       "\n",
       "    .dataframe tbody tr th {\n",
       "        vertical-align: top;\n",
       "    }\n",
       "</style>\n",
       "<table border=\"1\" class=\"dataframe\">\n",
       "  <thead>\n",
       "    <tr style=\"text-align: right;\">\n",
       "      <th></th>\n",
       "      <th>left_side</th>\n",
       "      <th>right_side</th>\n",
       "      <th>similairity</th>\n",
       "    </tr>\n",
       "  </thead>\n",
       "  <tbody>\n",
       "    <tr>\n",
       "      <th>1298576</th>\n",
       "      <td>VILLERE ST DENIS J &amp; CO                                 /ADV</td>\n",
       "      <td>VILLERE ST DENIS J &amp; CO                                /ADV</td>\n",
       "      <td>0.999985</td>\n",
       "    </tr>\n",
       "    <tr>\n",
       "      <th>1298586</th>\n",
       "      <td>VILLERE ST DENIS J &amp; CO                                /ADV</td>\n",
       "      <td>VILLERE ST DENIS J &amp; CO                                 /ADV</td>\n",
       "      <td>0.999985</td>\n",
       "    </tr>\n",
       "    <tr>\n",
       "      <th>968490</th>\n",
       "      <td>PG INVESTORS II INC                                     /ADV</td>\n",
       "      <td>PG INVESTORS III INC                                    /ADV</td>\n",
       "      <td>0.999648</td>\n",
       "    </tr>\n",
       "    <tr>\n",
       "      <th>968500</th>\n",
       "      <td>PG INVESTORS III INC                                    /ADV</td>\n",
       "      <td>PG INVESTORS II INC                                     /ADV</td>\n",
       "      <td>0.999648</td>\n",
       "    </tr>\n",
       "    <tr>\n",
       "      <th>968510</th>\n",
       "      <td>PG INVESTORS INC                                        /ADV</td>\n",
       "      <td>PG INVESTORS II INC                                     /ADV</td>\n",
       "      <td>0.998993</td>\n",
       "    </tr>\n",
       "    <tr>\n",
       "      <th>968491</th>\n",
       "      <td>PG INVESTORS II INC                                     /ADV</td>\n",
       "      <td>PG INVESTORS INC                                        /ADV</td>\n",
       "      <td>0.998993</td>\n",
       "    </tr>\n",
       "    <tr>\n",
       "      <th>297517</th>\n",
       "      <td>CSK CORP                                                /FI</td>\n",
       "      <td>SK CORP                                                 /FI</td>\n",
       "      <td>0.998968</td>\n",
       "    </tr>\n",
       "    <tr>\n",
       "      <th>1121593</th>\n",
       "      <td>SK CORP                                                 /FI</td>\n",
       "      <td>CSK CORP                                                /FI</td>\n",
       "      <td>0.998968</td>\n",
       "    </tr>\n",
       "    <tr>\n",
       "      <th>54674</th>\n",
       "      <td>ALLEN &amp; CO INC                                          /BD</td>\n",
       "      <td>MULLEN &amp; CO INC                                         /BD</td>\n",
       "      <td>0.998930</td>\n",
       "    </tr>\n",
       "    <tr>\n",
       "      <th>846418</th>\n",
       "      <td>MULLEN &amp; CO INC                                         /BD</td>\n",
       "      <td>ALLEN &amp; CO INC                                          /BD</td>\n",
       "      <td>0.998930</td>\n",
       "    </tr>\n",
       "  </tbody>\n",
       "</table>\n",
       "</div>"
      ],
      "text/plain": [
       "                                                            left_side  \\\n",
       "1298576  VILLERE ST DENIS J & CO                                 /ADV   \n",
       "1298586  VILLERE ST DENIS J & CO                                /ADV    \n",
       "968490   PG INVESTORS II INC                                     /ADV   \n",
       "968500   PG INVESTORS III INC                                    /ADV   \n",
       "968510   PG INVESTORS INC                                        /ADV   \n",
       "968491   PG INVESTORS II INC                                     /ADV   \n",
       "297517   CSK CORP                                                /FI    \n",
       "1121593  SK CORP                                                 /FI    \n",
       "54674    ALLEN & CO INC                                          /BD    \n",
       "846418   MULLEN & CO INC                                         /BD    \n",
       "\n",
       "                                                           right_side  \\\n",
       "1298576  VILLERE ST DENIS J & CO                                /ADV    \n",
       "1298586  VILLERE ST DENIS J & CO                                 /ADV   \n",
       "968490   PG INVESTORS III INC                                    /ADV   \n",
       "968500   PG INVESTORS II INC                                     /ADV   \n",
       "968510   PG INVESTORS II INC                                     /ADV   \n",
       "968491   PG INVESTORS INC                                        /ADV   \n",
       "297517   SK CORP                                                 /FI    \n",
       "1121593  CSK CORP                                                /FI    \n",
       "54674    MULLEN & CO INC                                         /BD    \n",
       "846418   ALLEN & CO INC                                          /BD    \n",
       "\n",
       "         similairity  \n",
       "1298576  0.999985     \n",
       "1298586  0.999985     \n",
       "968490   0.999648     \n",
       "968500   0.999648     \n",
       "968510   0.998993     \n",
       "968491   0.998993     \n",
       "297517   0.998968     \n",
       "1121593  0.998968     \n",
       "54674    0.998930     \n",
       "846418   0.998930     "
      ]
     },
     "execution_count": 11,
     "metadata": {},
     "output_type": "execute_result"
    }
   ],
   "source": [
    "matches_df.sort_values(['similairity'], ascending=False).head(10)"
   ]
  },
  {
   "cell_type": "code",
   "execution_count": 12,
   "metadata": {},
   "outputs": [
    {
     "name": "stdout",
     "output_type": "stream",
     "text": [
      "       Number                Name      Key\n",
      "87901  87902   BROWNLIE WILLIAM R  1346227\n"
     ]
    },
    {
     "data": {
      "text/html": [
       "<div>\n",
       "<style>\n",
       "    .dataframe thead tr:only-child th {\n",
       "        text-align: right;\n",
       "    }\n",
       "\n",
       "    .dataframe thead th {\n",
       "        text-align: left;\n",
       "    }\n",
       "\n",
       "    .dataframe tbody tr th {\n",
       "        vertical-align: top;\n",
       "    }\n",
       "</style>\n",
       "<table border=\"1\" class=\"dataframe\">\n",
       "  <thead>\n",
       "    <tr style=\"text-align: right;\">\n",
       "      <th></th>\n",
       "      <th>left_side</th>\n",
       "      <th>right_side</th>\n",
       "      <th>similairity</th>\n",
       "    </tr>\n",
       "  </thead>\n",
       "  <tbody>\n",
       "    <tr>\n",
       "      <th>330312</th>\n",
       "      <td>DEFINED ASSET FUNDS MUNICIPAL INVT TR FD MON PYMT SER 168</td>\n",
       "      <td>DEFINED ASSET FUNDS MUNICIPAL INVT TR FD MON PYMT SER 16</td>\n",
       "      <td>0.968790</td>\n",
       "    </tr>\n",
       "    <tr>\n",
       "      <th>330313</th>\n",
       "      <td>DEFINED ASSET FUNDS MUNICIPAL INVT TR FD MON PYMT SER 168</td>\n",
       "      <td>DEFINED ASSET FUNDS MUNICIPAL INVT TR FD MON PYMT SER 1</td>\n",
       "      <td>0.949965</td>\n",
       "    </tr>\n",
       "    <tr>\n",
       "      <th>330314</th>\n",
       "      <td>DEFINED ASSET FUNDS MUNICIPAL INVT TR FD MON PYMT SER 168</td>\n",
       "      <td>DEFINED ASSET FUNDS MUNICIPAL INVT TR FD MON PYMT SER 161</td>\n",
       "      <td>0.942374</td>\n",
       "    </tr>\n",
       "    <tr>\n",
       "      <th>330315</th>\n",
       "      <td>DEFINED ASSET FUNDS MUNICIPAL INVT TR FD MON PYMT SER 168</td>\n",
       "      <td>DEFINED ASSET FUNDS MUNICIPAL INVT TR FD MON PYMT SER 160</td>\n",
       "      <td>0.941028</td>\n",
       "    </tr>\n",
       "    <tr>\n",
       "      <th>330316</th>\n",
       "      <td>DEFINED ASSET FUNDS MUNICIPAL INVT TR FD MON PYMT SER 168</td>\n",
       "      <td>DEFINED ASSET FUNDS MUNICIPAL INVT TR FD MON PYMT SER 163</td>\n",
       "      <td>0.940108</td>\n",
       "    </tr>\n",
       "    <tr>\n",
       "      <th>330317</th>\n",
       "      <td>DEFINED ASSET FUNDS MUNICIPAL INVT TR FD MON PYMT SER 168</td>\n",
       "      <td>DEFINED ASSET FUNDS MUNICIPAL INVT TR FD MON PYMT SER 169</td>\n",
       "      <td>0.938703</td>\n",
       "    </tr>\n",
       "    <tr>\n",
       "      <th>330318</th>\n",
       "      <td>DEFINED ASSET FUNDS MUNICIPAL INVT TR FD MON PYMT SER 168</td>\n",
       "      <td>DEFINED ASSET FUNDS MUNICIPAL INVT TR FD MON PYMT SER 167</td>\n",
       "      <td>0.938629</td>\n",
       "    </tr>\n",
       "    <tr>\n",
       "      <th>330319</th>\n",
       "      <td>DEFINED ASSET FUNDS MUNICIPAL INVT TR FD MON PYMT SER 168</td>\n",
       "      <td>DEFINED ASSET FUNDS MUNICIPAL INVT TR FD MON PYMT SER 19</td>\n",
       "      <td>0.937084</td>\n",
       "    </tr>\n",
       "    <tr>\n",
       "      <th>330320</th>\n",
       "      <td>DEFINED ASSET FUNDS MUNICIPAL INVT TR FD MON PYMT SER 168</td>\n",
       "      <td>DEFINED ASSET FUNDS MUNICIPAL INVT TR FD MON PYMT SER 10</td>\n",
       "      <td>0.934729</td>\n",
       "    </tr>\n",
       "  </tbody>\n",
       "</table>\n",
       "</div>"
      ],
      "text/plain": [
       "                                                        left_side  \\\n",
       "330312  DEFINED ASSET FUNDS MUNICIPAL INVT TR FD MON PYMT SER 168   \n",
       "330313  DEFINED ASSET FUNDS MUNICIPAL INVT TR FD MON PYMT SER 168   \n",
       "330314  DEFINED ASSET FUNDS MUNICIPAL INVT TR FD MON PYMT SER 168   \n",
       "330315  DEFINED ASSET FUNDS MUNICIPAL INVT TR FD MON PYMT SER 168   \n",
       "330316  DEFINED ASSET FUNDS MUNICIPAL INVT TR FD MON PYMT SER 168   \n",
       "330317  DEFINED ASSET FUNDS MUNICIPAL INVT TR FD MON PYMT SER 168   \n",
       "330318  DEFINED ASSET FUNDS MUNICIPAL INVT TR FD MON PYMT SER 168   \n",
       "330319  DEFINED ASSET FUNDS MUNICIPAL INVT TR FD MON PYMT SER 168   \n",
       "330320  DEFINED ASSET FUNDS MUNICIPAL INVT TR FD MON PYMT SER 168   \n",
       "\n",
       "                                                       right_side  similairity  \n",
       "330312  DEFINED ASSET FUNDS MUNICIPAL INVT TR FD MON PYMT SER 16   0.968790     \n",
       "330313  DEFINED ASSET FUNDS MUNICIPAL INVT TR FD MON PYMT SER 1    0.949965     \n",
       "330314  DEFINED ASSET FUNDS MUNICIPAL INVT TR FD MON PYMT SER 161  0.942374     \n",
       "330315  DEFINED ASSET FUNDS MUNICIPAL INVT TR FD MON PYMT SER 160  0.941028     \n",
       "330316  DEFINED ASSET FUNDS MUNICIPAL INVT TR FD MON PYMT SER 163  0.940108     \n",
       "330317  DEFINED ASSET FUNDS MUNICIPAL INVT TR FD MON PYMT SER 169  0.938703     \n",
       "330318  DEFINED ASSET FUNDS MUNICIPAL INVT TR FD MON PYMT SER 167  0.938629     \n",
       "330319  DEFINED ASSET FUNDS MUNICIPAL INVT TR FD MON PYMT SER 19   0.937084     \n",
       "330320  DEFINED ASSET FUNDS MUNICIPAL INVT TR FD MON PYMT SER 10   0.934729     "
      ]
     },
     "execution_count": 12,
     "metadata": {},
     "output_type": "execute_result"
    }
   ],
   "source": [
    "print(names.sample())\n",
    "matches_df[matches_df['left_side'] == 'DEFINED ASSET FUNDS MUNICIPAL INVT TR FD MON PYMT SER 168']"
   ]
  }
 ],
 "metadata": {
  "celltoolbar": "Raw Cell Format",
  "kernelspec": {
   "display_name": "Python 3",
   "language": "python",
   "name": "python3"
  },
  "language_info": {
   "codemirror_mode": {
    "name": "ipython",
    "version": 3
   },
   "file_extension": ".py",
   "mimetype": "text/x-python",
   "name": "python",
   "nbconvert_exporter": "python",
   "pygments_lexer": "ipython3",
   "version": "3.6.1"
  }
 },
 "nbformat": 4,
 "nbformat_minor": 2
}
